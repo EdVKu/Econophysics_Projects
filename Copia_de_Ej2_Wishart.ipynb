{
  "nbformat": 4,
  "nbformat_minor": 0,
  "metadata": {
    "colab": {
      "provenance": [],
      "authorship_tag": "ABX9TyMkk++PL4iicmzTMTd6TnxN",
      "include_colab_link": true
    },
    "kernelspec": {
      "name": "python3",
      "display_name": "Python 3"
    },
    "language_info": {
      "name": "python"
    }
  },
  "cells": [
    {
      "cell_type": "markdown",
      "metadata": {
        "id": "view-in-github",
        "colab_type": "text"
      },
      "source": [
        "<a href=\"https://colab.research.google.com/github/EdVKu/Econophysics_Projects/blob/main/Copia_de_Ej2_Wishart.ipynb\" target=\"_parent\"><img src=\"https://colab.research.google.com/assets/colab-badge.svg\" alt=\"Open In Colab\"/></a>"
      ]
    },
    {
      "cell_type": "markdown",
      "source": [
        "# Distribución de Eigenvalores para WOEs\n",
        "\n",
        "Ley Marchenko-Pastur:\n",
        "\n",
        "$$P(E) = \\frac{\\kappa\\sqrt{(E_+ - E)(E-E_-)}}{2\\pi E}$$\n",
        "\n",
        "$$E_{\\pm} = \\left(\\frac{1}{\\sqrt{\\kappa}} \\pm 1\\right)², \\kappa = \\frac{T}{N}$$\n",
        "\n",
        "\n",
        "\n",
        "Con Es no normalizadas."
      ],
      "metadata": {
        "id": "vqwbb-ahfo5e"
      }
    },
    {
      "cell_type": "code",
      "execution_count": null,
      "metadata": {
        "colab": {
          "base_uri": "https://localhost:8080/"
        },
        "id": "FCpiMJkTKGeR",
        "outputId": "13617c94-b84f-4991-b46f-54a944c47314"
      },
      "outputs": [
        {
          "output_type": "stream",
          "name": "stdout",
          "text": [
            "[ 5.76451137e+01+0.00000000e+00j  3.92150270e+01+0.00000000e+00j\n",
            "  3.25498348e+01+0.00000000e+00j  2.36597092e+01+0.00000000e+00j\n",
            "  2.03668949e+01+0.00000000e+00j  1.32712412e+01+0.00000000e+00j\n",
            "  1.16177637e+01+0.00000000e+00j  8.46970518e+00+0.00000000e+00j\n",
            "  5.11814719e+00+0.00000000e+00j  3.43896684e+00+0.00000000e+00j\n",
            " -5.89072671e-15+0.00000000e+00j  2.74258329e-15+0.00000000e+00j\n",
            "  2.16949972e-15+9.83642978e-16j  2.16949972e-15-9.83642978e-16j\n",
            " -3.04473500e-15+0.00000000e+00j -1.05862542e-15+9.77410371e-16j\n",
            " -1.05862542e-15-9.77410371e-16j -1.22760346e-15+0.00000000e+00j\n",
            " -8.18607831e-16+0.00000000e+00j  6.35439613e-17+0.00000000e+00j]\n",
            "[57.64511369 39.21502704 32.54983478 23.65970922 20.36689488  3.43896684\n",
            "  5.11814719  8.46970518 13.27124124 11.61776373]\n"
          ]
        }
      ],
      "source": [
        "import numpy as np\n",
        "import pandas as pd\n",
        "import matplotlib.pyplot as plt\n",
        "np.random.seed(1300)\n",
        "\n",
        "# Dimensiones a usar: 5x10, 20x10, 20x5\n",
        "x = []\n",
        "def mat(M,N):\n",
        "\n",
        "    return np.random.normal(0,1,(M,N))\n",
        "\n",
        "\n",
        "Ai = mat(10,20)\n",
        "def w1(a,b,n):\n",
        "    p = []\n",
        "    for i in range(0,n):\n",
        "      A = mat(a,b)\n",
        "      p.append(np.matmul(A,np.transpose(A))/b)\n",
        "    return p\n",
        "\n",
        "def w1i(a,b,n):\n",
        "    p = []\n",
        "    for i in range(0,n):\n",
        "      A = Ai\n",
        "      p.append(np.matmul(A,np.transpose(A)))\n",
        "    return p\n",
        "\n",
        "def w2(a,b,n):\n",
        "    p = []\n",
        "    for i in range(0,n):\n",
        "      A = mat(a,b)\n",
        "      p.append(np.matmul(np.transpose(A), A)/a)\n",
        "    return p\n",
        "\n",
        "def w2i(a,b,n):\n",
        "    p = []\n",
        "    for i in range(0,n):\n",
        "      A = Ai\n",
        "      p.append(np.matmul(np.transpose(A), A))\n",
        "    return p\n",
        "\n",
        "def eig(m):\n",
        "    return np.linalg.eigvals(m)\n",
        "N=10\n",
        "T=20\n",
        "\n",
        "\n",
        "w1p = w1i(N,T,1)[0]\n",
        "w2p = w2i(N,T,1)[0]\n",
        "eig1 = eig(w1p)\n",
        "eig2 = eig(w2p)\n",
        "print(eig2)\n",
        "print(eig1)"
      ]
    },
    {
      "cell_type": "code",
      "source": [
        "N = 50\n",
        "T = 100\n",
        "j = 50\n",
        "\n",
        "wish1 = w1(N,T,j)\n",
        "def Pp(h):\n",
        "  p=[]\n",
        "  for i in range(0,j):\n",
        "    for t in range(0,len(h[0])):\n",
        "      if(eig(h[i])[t].real>=1e-8):\n",
        "        p.append(eig(h[i])[t].real)\n",
        "  return p\n",
        "\n",
        "\n",
        "p = Pp(wish1)\n",
        "\n"
      ],
      "metadata": {
        "id": "ctNsxDNCtBVT"
      },
      "execution_count": null,
      "outputs": []
    },
    {
      "cell_type": "code",
      "source": [
        "R = np.min(p)\n",
        "\n",
        "xc = np.linspace(np.min(p), np.max(p), num=500)\n",
        "kappa=T/N\n",
        "Em= (1/(np.sqrt(kappa))+1)**2\n",
        "Ep= (1/(np.sqrt(kappa))-1)**2\n",
        "\n",
        "fx=(kappa*np.sqrt((Ep-(xc))*((xc)-Em))/(np.pi*2*xc))\n",
        "plt.hist(p,bins=50, density = True)\n",
        "plt.plot(xc,fx)"
      ],
      "metadata": {
        "colab": {
          "base_uri": "https://localhost:8080/",
          "height": 486
        },
        "id": "_UBosWp61hGy",
        "outputId": "14c5d746-658b-4d7b-c2bd-dc0ee76b68c3"
      },
      "execution_count": null,
      "outputs": [
        {
          "output_type": "stream",
          "name": "stderr",
          "text": [
            "<ipython-input-51-ae2036017031>:8: RuntimeWarning: invalid value encountered in sqrt\n",
            "  fx=(kappa*np.sqrt((Ep-(xc))*((xc)-Em))/(np.pi*2*xc))\n"
          ]
        },
        {
          "output_type": "execute_result",
          "data": {
            "text/plain": [
              "[<matplotlib.lines.Line2D at 0x79d4b3401720>]"
            ]
          },
          "metadata": {},
          "execution_count": 51
        },
        {
          "output_type": "display_data",
          "data": {
            "text/plain": [
              "<Figure size 640x480 with 1 Axes>"
            ],
            "image/png": "[encoded data removed]"
          },
          "metadata": {}
        }
      ]
    }
  ]
}